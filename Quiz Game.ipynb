{
 "cells": [
  {
   "cell_type": "code",
   "execution_count": 6,
   "metadata": {},
   "outputs": [
    {
     "name": "stdout",
     "output_type": "stream",
     "text": [
      "Welcome to Quiz Game\n",
      "------------------------------\n",
      "The ability of one class to acquire methods   and attritubes  from another class is called?\n",
      "A.Inheritance\n",
      "B.Abstraction\n",
      "C.Polymorphism\n",
      "D.objects\n",
      "Correct Answer\n",
      "------------------------------\n",
      "what type of  inheritance has multiple subclasses to a single superclass?\n",
      "A.Multiple inheritance\n",
      "B.Multilevel inheritance\n",
      "C.Hierarchical inheritance\n",
      "D.None of these\n",
      "Incorrect Answer\n",
      "the correct answer is c\n",
      "your current score is 1/2\n",
      "------------------------------\n",
      "which of the following is a type of inheritance?\n",
      "A.Single\n",
      "B.Double\n",
      "C.Multiple\n",
      "D.Both A and B\n",
      "Incorrect Answer\n",
      "the correct answer is D\n",
      "your current score is 1/3\n",
      "------------------------------\n",
      "what does MRO stand for?\n",
      "A.Method recursive object\n",
      "B.Method resolution order\n",
      "C.Main resolution order\n",
      "D.Method resolution object\n",
      "Incorrect Answer\n",
      "the correct answer is B\n",
      "your current score is 1/4\n",
      "You have given 1correct answer\n",
      "your score is 25.0%\n"
     ]
    }
   ],
   "source": [
    "print(\"Welcome to Quiz Game\")\n",
    "\n",
    "\n",
    "question_bank=[\n",
    "    {\"text\":\"The ability of one class to acquire methods   and attritubes  from another class is called?\",\"answer\":\"A\"},\n",
    "    {\"text\":\"what type of  inheritance has multiple subclasses to a single superclass?\",\"answer\":\"c\"},\n",
    "    {\"text\":\"which of the following is a type of inheritance?\",\"answer\":\"D\"},\n",
    "    {\"text\":\"what does MRO stand for?\",\"answer\":\"B\"}  \n",
    "    \n",
    "]\n",
    "\n",
    "options=[[\"A.Inheritance\",\"B.Abstraction\",\"C.Polymorphism\",\"D.objects\"],\n",
    "         [\"A.Multiple inheritance\",\"B.Multilevel inheritance\",\"C.Hierarchical inheritance\",\"D.None of these\"],\n",
    "         [\"A.Single\",\"B.Double\",\"C.Multiple\",\"D.Both A and B\"],\n",
    "         [\"A.Method recursive object\",\"B.Method resolution order\",\"C.Main resolution order\",\"D.Method resolution object\"]\n",
    "         \n",
    "]\n",
    "\n",
    "score=0\n",
    "def check_answer(user_guess,correct_answer):\n",
    "    if user_guess==correct_answer:\n",
    "        return True\n",
    "    else:\n",
    "        return False\n",
    "for question_num in range(len(question_bank)):# 0 1 2 3 \n",
    "    print(\"------------------------------\")\n",
    "    print(question_bank[question_num][\"text\"])\n",
    "    \n",
    "    for i in options[question_num]:\n",
    "        print(i)\n",
    "    \n",
    "    \n",
    "    guess=input(\"Enter your answer(A/B/C/D):\").upper()\n",
    "    is_correct=check_answer(guess,question_bank[question_num][\"answer\"])  \n",
    "    if is_correct:\n",
    "        print(\"Correct Answer\")\n",
    "        score +=1  \n",
    "    else:\n",
    "        print(\"Incorrect Answer\")\n",
    "        print(f\"the correct answer is {question_bank[question_num]['answer']}\")\n",
    "        print(f\"your current score is {score}/{question_num+1}\")\n",
    "\n",
    "print(f\"You have given {score}correct answer\")\n",
    "print(f\"your score is {(score/len(question_bank))*100}%\")\n",
    "        \n"
   ]
  },
  {
   "cell_type": "code",
   "execution_count": null,
   "metadata": {},
   "outputs": [],
   "source": []
  },
  {
   "cell_type": "code",
   "execution_count": null,
   "metadata": {},
   "outputs": [],
   "source": []
  },
  {
   "cell_type": "code",
   "execution_count": null,
   "metadata": {},
   "outputs": [],
   "source": []
  },
  {
   "cell_type": "code",
   "execution_count": null,
   "metadata": {},
   "outputs": [],
   "source": []
  }
 ],
 "metadata": {
  "kernelspec": {
   "display_name": "base",
   "language": "python",
   "name": "python3"
  },
  "language_info": {
   "codemirror_mode": {
    "name": "ipython",
    "version": 3
   },
   "file_extension": ".py",
   "mimetype": "text/x-python",
   "name": "python",
   "nbconvert_exporter": "python",
   "pygments_lexer": "ipython3",
   "version": "3.9.12"
  }
 },
 "nbformat": 4,
 "nbformat_minor": 2
}
